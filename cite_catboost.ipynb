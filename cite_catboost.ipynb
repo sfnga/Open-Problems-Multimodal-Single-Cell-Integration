{
 "cells": [
  {
   "cell_type": "markdown",
   "id": "3cc3b7a9",
   "metadata": {},
   "source": [
    "# Catboost solution"
   ]
  },
  {
   "cell_type": "markdown",
   "id": "177c1d29",
   "metadata": {},
   "source": [
    "## Imports"
   ]
  },
  {
   "cell_type": "code",
   "execution_count": null,
   "id": "56553a4e",
   "metadata": {
    "_kg_hide-input": true,
    "execution": {
     "iopub.execute_input": "2022-09-14T06:34:15.229879Z",
     "iopub.status.busy": "2022-09-14T06:34:15.229223Z",
     "iopub.status.idle": "2022-09-14T06:34:16.461118Z",
     "shell.execute_reply": "2022-09-14T06:34:16.459872Z"
    },
    "id": "56553a4e",
    "papermill": {
     "duration": 1.247032,
     "end_time": "2022-09-14T06:34:16.464128",
     "exception": false,
     "start_time": "2022-09-14T06:34:15.217096",
     "status": "completed"
    },
    "tags": []
   },
   "outputs": [],
   "source": [
    "import pandas as pd\n",
    "import numpy as np\n",
    "from scipy import sparse\n",
    "from colorama import Fore, Back, Style\n",
    "from pathlib import Path\n",
    "import gc\n",
    "\n",
    "from catboost import CatBoostRegressor\n",
    "from sklearn.metrics import mean_squared_error\n",
    "from sklearn.multioutput import MultiOutputRegressor\n",
    "from sklearn.model_selection import GroupKFold\n",
    "from sklearn.decomposition import TruncatedSVD\n",
    "\n",
    "warnings.filterwarnings('ignore')"
   ]
  },
  {
   "cell_type": "markdown",
   "id": "b7598813",
   "metadata": {},
   "source": [
    "## Config"
   ]
  },
  {
   "cell_type": "code",
   "execution_count": null,
   "id": "af77dd15",
   "metadata": {},
   "outputs": [],
   "source": [
    "MAKE_PCA = False\n",
    "SAVE = True\n",
    "\n",
    "PATH = Path('/content/drive/MyDrive/cite')\n",
    "COLUMNS_PATH = Path('/content/drive/MyDrive/cite')\n",
    "\n",
    "RANDOM_STATE = 1\n",
    "N_COMPONENTS = None\n",
    "\n",
    "PARAMS = {\n",
    "    'depth': 7,\n",
    "    'loss_function': 'RMSE',\n",
    "    'task_type': 'GPU',\n",
    "    'iterations': 800,\n",
    "    'allow_const_label': True,\n",
    "    'random_state': RANDOM_STATE,\n",
    "    'verbose': 0\n",
    "}"
   ]
  },
  {
   "cell_type": "markdown",
   "id": "7f4976b7",
   "metadata": {},
   "source": [
    "## Competition metric"
   ]
  },
  {
   "cell_type": "code",
   "execution_count": null,
   "id": "56c3cf28",
   "metadata": {
    "execution": {
     "iopub.execute_input": "2022-09-14T06:34:16.487624Z",
     "iopub.status.busy": "2022-09-14T06:34:16.486926Z",
     "iopub.status.idle": "2022-09-14T06:34:16.493657Z",
     "shell.execute_reply": "2022-09-14T06:34:16.492773Z"
    },
    "id": "56c3cf28",
    "jupyter": {
     "source_hidden": true
    },
    "papermill": {
     "duration": 0.021445,
     "end_time": "2022-09-14T06:34:16.496104",
     "exception": false,
     "start_time": "2022-09-14T06:34:16.474659",
     "status": "completed"
    },
    "tags": []
   },
   "outputs": [],
   "source": [
    "def correlation_score(y_true, y_pred):\n",
    "    if type(y_true) == pd.DataFrame: y_true = y_true.values\n",
    "    if type(y_pred) == pd.DataFrame: y_pred = y_pred.values\n",
    "    if y_true.shape != y_pred.shape: raise ValueError(\"Shapes are different.\")\n",
    "    corrsum = 0\n",
    "    for i in range(len(y_true)):\n",
    "        corrsum += np.corrcoef(y_true[i], y_pred[i])[1, 0]\n",
    "    return corrsum / len(y_true)"
   ]
  },
  {
   "cell_type": "markdown",
   "id": "52a91bfb",
   "metadata": {},
   "source": [
    "## Prepare data"
   ]
  },
  {
   "cell_type": "code",
   "execution_count": null,
   "id": "7_cTCMPBzlQi",
   "metadata": {
    "id": "7_cTCMPBzlQi"
   },
   "outputs": [],
   "source": [
    "metadata_df = pd.read_csv(PATH / 'metadata.csv', index_col='cell_id')\n",
    "metadata_df = metadata_df[metadata_df.technology == \"citeseq\"]\n",
    "\n",
    "Y = pd.read_hdf(PATH / 'train_cite_targets.h5')\n",
    "Y = Y.values\n",
    "Y -= Y.mean(axis=1).reshape(-1, 1)\n",
    "Y /= Y.std(axis=1).reshape(-1, 1)"
   ]
  },
  {
   "cell_type": "code",
   "execution_count": null,
   "id": "Niwrbp5976BX",
   "metadata": {
    "id": "Niwrbp5976BX"
   },
   "outputs": [],
   "source": [
    "if MAKE_PCA:\n",
    "    important_cols = np.loadtxt(COLUMNS_PATH / 'important_cols_v2.txt',\n",
    "                                dtype='str')\n",
    "    constant_cols = np.loadtxt(COLUMNS_PATH / 'constant_cols.txt', dtype='str')\n",
    "\n",
    "    X = pd.read_hdf(PATH / 'train_cite_inputs.h5').drop(columns=constant_cols)\n",
    "    meta = metadata_df.reindex(X.index)\n",
    "    X0 = X[important_cols].values\n",
    "    X = sparse.csr_matrix(X.values)\n",
    "    gc.collect()\n",
    "\n",
    "    X_test = pd.read_hdf(PATH /\n",
    "                         'test_cite_inputs.h5').drop(columns=constant_cols)\n",
    "    meta_test = metadata_df.reindex(X_test.index)\n",
    "    X0_test = X_test[important_cols].values\n",
    "    X_test = sparse.csr_matrix(X_test.values)\n",
    "\n",
    "    both = sparse.vstack([X, X_test])\n",
    "    svd = TruncatedSVD(n_components=N_COMPONENTS, random_state=RANDOM_STATE)\n",
    "    both = svd.fit_transform(both)\n",
    "\n",
    "    X = both[:70988]\n",
    "    X_test = both[70988:]\n",
    "    del both\n",
    "    gc.collect()\n",
    "\n",
    "    X = np.hstack([X, X0])\n",
    "    X_test = np.hstack([X_test, X0_test])\n",
    "    del X0, X0_test\n",
    "    gc.collect()\n",
    "else:\n",
    "    X = np.load(PATH / 'train_84_128.npy')\n",
    "    X_test = np.load(PATH / 'test_84_128.npy')"
   ]
  },
  {
   "cell_type": "markdown",
   "id": "1f021ec3",
   "metadata": {},
   "source": [
    "## Training"
   ]
  },
  {
   "cell_type": "code",
   "execution_count": null,
   "id": "797f92c4",
   "metadata": {
    "colab": {
     "base_uri": "https://localhost:8080/"
    },
    "execution": {
     "iopub.execute_input": "2022-09-14T07:03:04.510381Z",
     "iopub.status.busy": "2022-09-14T07:03:04.509738Z",
     "iopub.status.idle": "2022-09-14T12:48:16.226601Z",
     "shell.execute_reply": "2022-09-14T12:48:16.224803Z"
    },
    "id": "797f92c4",
    "outputId": "a9131f5f-7c59-4db8-a3cb-8b6089f0c327",
    "papermill": {
     "duration": 20711.80725,
     "end_time": "2022-09-14T12:48:16.304631",
     "exception": false,
     "start_time": "2022-09-14T07:03:04.497381",
     "status": "completed"
    },
    "tags": []
   },
   "outputs": [
    {
     "name": "stdout",
     "output_type": "stream",
     "text": [
      "Fold 0: mse = 0.21382, corr =  0.88656\n",
      "Fold 1: mse = 0.20546, corr =  0.89122\n",
      "Fold 2: mse = 0.19081, corr =  0.89933\n",
      "Average  mse = 0.20336;corr = 0.89237+-0.00646\n"
     ]
    }
   ],
   "source": [
    "losses = []\n",
    "corrscores = []\n",
    "pred_train = np.zeros((Y.shape[0], Y.shape[1]))\n",
    "test_pred = np.zeros((len(X_test), 140))\n",
    "\n",
    "model = MultiOutputRegressor(CatBoostRegressor(**PARAMS))\n",
    "kf = GroupKFold(n_splits=3)\n",
    "for fold, (idx_train, idx_val) in enumerate(kf.split(X, groups=meta.donor)):\n",
    "    X_train = X[idx_train]\n",
    "    y_train = Y[idx_train]\n",
    "    X_val = X[idx_val]\n",
    "    y_val = Y[idx_val]\n",
    "\n",
    "    model.fit(X_train, y_train)\n",
    "    y_val_pred = model.predict(X_val)\n",
    "    pred_train[idx_val] = y_val_pred\n",
    "    test_pred += model.predict(X_test)\n",
    "\n",
    "    mse = mean_squared_error(y_va, y_va_pred)\n",
    "    corrscore = correlation_score(y_va, y_va_pred)\n",
    "\n",
    "    print(f\"Fold {fold}: mse = {mse:.5f}, corr =  {corrscore:.5f}\")\n",
    "    losses.append(mse)\n",
    "    corrscores.append(corrscore)\n",
    "\n",
    "    del X_train, y_train, X_val, y_val\n",
    "    gc.collect()\n",
    "\n",
    "print(\n",
    "    f\"Average  mse = {np.mean(losses):.5f};corr = {np.mean(corrscores):.5f}+-{np.std(corrscores):.5f}\"\n",
    ")"
   ]
  },
  {
   "cell_type": "markdown",
   "id": "7a8b5218",
   "metadata": {},
   "source": [
    "## Save"
   ]
  },
  {
   "cell_type": "code",
   "execution_count": null,
   "id": "qreeyCpf9Hgd",
   "metadata": {
    "id": "qreeyCpf9Hgd"
   },
   "outputs": [],
   "source": [
    "if CFG.save:\n",
    "    np.save('oof.npy', pred_train)\n",
    "    np.save('test_preds.npy', test_pred)"
   ]
  }
 ],
 "metadata": {
  "accelerator": "GPU",
  "colab": {
   "provenance": []
  },
  "gpuClass": "standard",
  "kernelspec": {
   "display_name": "Python 3 (ipykernel)",
   "language": "python",
   "name": "python3"
  },
  "language_info": {
   "codemirror_mode": {
    "name": "ipython",
    "version": 3
   },
   "file_extension": ".py",
   "mimetype": "text/x-python",
   "name": "python",
   "nbconvert_exporter": "python",
   "pygments_lexer": "ipython3",
   "version": "3.9.7"
  },
  "papermill": {
   "default_parameters": {},
   "duration": 22967.319479,
   "end_time": "2022-09-14T12:56:53.396256",
   "environment_variables": {},
   "exception": null,
   "input_path": "__notebook__.ipynb",
   "output_path": "__notebook__.ipynb",
   "parameters": {},
   "start_time": "2022-09-14T06:34:06.076777",
   "version": "2.3.4"
  },
  "varInspector": {
   "cols": {
    "lenName": 16,
    "lenType": 16,
    "lenVar": 40
   },
   "kernels_config": {
    "python": {
     "delete_cmd_postfix": "",
     "delete_cmd_prefix": "del ",
     "library": "var_list.py",
     "varRefreshCmd": "print(var_dic_list())"
    },
    "r": {
     "delete_cmd_postfix": ") ",
     "delete_cmd_prefix": "rm(",
     "library": "var_list.r",
     "varRefreshCmd": "cat(var_dic_list()) "
    }
   },
   "types_to_exclude": [
    "module",
    "function",
    "builtin_function_or_method",
    "instance",
    "_Feature"
   ],
   "window_display": false
  }
 },
 "nbformat": 4,
 "nbformat_minor": 5
}
